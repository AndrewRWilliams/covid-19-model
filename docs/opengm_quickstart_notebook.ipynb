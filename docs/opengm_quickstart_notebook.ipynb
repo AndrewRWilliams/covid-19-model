{
 "cells": [
  {
   "cell_type": "markdown",
   "metadata": {},
   "source": [
    "This notebook contains the code blocks of [this](opengm_quickstart.md) document. "
   ]
  },
  {
   "cell_type": "code",
   "execution_count": 1,
   "metadata": {},
   "outputs": [],
   "source": [
    "import opengm\n",
    "gm = opengm.gm([2, 2, 2, 2], operator='multiplier')"
   ]
  },
  {
   "cell_type": "code",
   "execution_count": 2,
   "metadata": {},
   "outputs": [],
   "source": [
    "import numpy \n",
    "f0_params = numpy.array([0.3, 0.7])\n",
    "f1_params = numpy.array([[0.2, 0.8],\n",
    "                         [0.7, 0.3]])\n",
    "f2_params = numpy.array([[0.4, 0.6],\n",
    "                         [0.3, 0.7]])\n",
    "f3_params = numpy.array([\n",
    "    [[0.2, 0.8],\n",
    "     [0.3, 0.7]],\n",
    "    [[0.6, 0.4],\n",
    "     [0.7, 0.3]]])"
   ]
  },
  {
   "cell_type": "code",
   "execution_count": 3,
   "metadata": {},
   "outputs": [
    {
     "data": {
      "text/plain": [
       "3"
      ]
     },
     "execution_count": 3,
     "metadata": {},
     "output_type": "execute_result"
    }
   ],
   "source": [
    "gm.addFactor(gm.addFunction(f0_params),[0])\n",
    "gm.addFactor(gm.addFunction(f1_params),[0, 1])\n",
    "gm.addFactor(gm.addFunction(f2_params),[0, 2])\n",
    "gm.addFactor(gm.addFunction(f3_params), [1, 2, 3])"
   ]
  },
  {
   "cell_type": "code",
   "execution_count": 4,
   "metadata": {},
   "outputs": [],
   "source": [
    "gm2, vs = gm.fixVariables([2], [1])"
   ]
  },
  {
   "cell_type": "code",
   "execution_count": 5,
   "metadata": {},
   "outputs": [
    {
     "name": "stdout",
     "output_type": "stream",
     "text": [
      "[0 1 3]\n"
     ]
    }
   ],
   "source": [
    "print(vs)"
   ]
  },
  {
   "cell_type": "code",
   "execution_count": 6,
   "metadata": {},
   "outputs": [
    {
     "name": "stdout",
     "output_type": "stream",
     "text": [
      "[0, ] [ 0.3  0.7]\n",
      "[0, 1, ] [ 0.2  0.7  0.8  0.3]\n",
      "[0, ] [ 0.6  0.7]\n",
      "[1, 2, ] [ 0.3  0.7  0.7  0.3]\n",
      "[] [ 1.]\n"
     ]
    }
   ],
   "source": [
    "from __future__ import print_function\n",
    "for f in gm2.factors():\n",
    "    print(f.variableIndices, f.copyValues())"
   ]
  },
  {
   "cell_type": "code",
   "execution_count": 7,
   "metadata": {},
   "outputs": [
    {
     "name": "stdout",
     "output_type": "stream",
     "text": [
      "[[ 0.22971516  0.77028484]]\n",
      "[[ 0.72716989  0.27283011]]\n",
      "[[ 0.36386238  0.63613762]]\n"
     ]
    }
   ],
   "source": [
    "gm3, vs3 = gm.fixVariables([3], [1])\n",
    "\n",
    "inference_parameters = opengm.InfParam(\n",
    "    steps=10, \n",
    "    damping=0.5,\n",
    "    convergenceBound=0.001)\n",
    "\n",
    "inference_algorithm = opengm.inference.BeliefPropagation(\n",
    "    gm3,\n",
    "    accumulator='integrator',\n",
    "    parameter=inference_parameters)\n",
    "\n",
    "inference_algorithm.infer()\n",
    "\n",
    "for i in vs3:\n",
    "    print(inference_algorithm.marginals(i))"
   ]
  },
  {
   "cell_type": "code",
   "execution_count": 8,
   "metadata": {},
   "outputs": [
    {
     "name": "stdout",
     "output_type": "stream",
     "text": [
      "begin\n",
      "marginals of variable 2:  [[ 0.43992727  0.56007273]]\n",
      "marginals of variable 2:  [[ 0.40775119  0.59224881]]\n",
      "marginals of variable 2:  [[ 0.39028824  0.60971176]]\n",
      "marginals of variable 2:  [[ 0.3803642  0.6196358]]\n",
      "marginals of variable 2:  [[ 0.37435229  0.62564771]]\n",
      "marginals of variable 2:  [[ 0.37047283  0.62952717]]\n",
      "marginals of variable 2:  [[ 0.36784895  0.63215105]]\n",
      "marginals of variable 2:  [[ 0.36602756  0.63397244]]\n",
      "marginals of variable 2:  [[ 0.36475245  0.63524755]]\n",
      "marginals of variable 2:  [[ 0.36386238  0.63613762]]\n",
      "end\n"
     ]
    },
    {
     "data": {
      "text/plain": [
       "opengm.inference._inference.InferenceTermination.NORMAL"
      ]
     },
     "execution_count": 8,
     "metadata": {},
     "output_type": "execute_result"
    }
   ],
   "source": [
    "class PyCallback(object):\n",
    "    def __init__(self):\n",
    "        pass\n",
    "    def begin(self, inference):\n",
    "        print(\"begin\")\n",
    "    def end(self, inference):\n",
    "        print(\"end\")\n",
    "    def visit(self, inference):\n",
    "        print(\"marginals of variable 2: \", inference.marginals(2))\n",
    "\n",
    "callback=PyCallback()\n",
    "\n",
    "inference_algorithm = opengm.inference.BeliefPropagation(\n",
    "    gm3,\n",
    "    accumulator='integrator',\n",
    "    parameter=inference_parameters)\n",
    "\n",
    "visitor=inference_algorithm.pythonVisitor(callback,visitNth=1)\n",
    "\n",
    "inference_algorithm.infer(visitor)"
   ]
  }
 ],
 "metadata": {
  "kernelspec": {
   "display_name": "Python 2",
   "language": "python",
   "name": "python2"
  },
  "language_info": {
   "codemirror_mode": {
    "name": "ipython",
    "version": 2
   },
   "file_extension": ".py",
   "mimetype": "text/x-python",
   "name": "python",
   "nbconvert_exporter": "python",
   "pygments_lexer": "ipython2",
   "version": "2.7.17"
  }
 },
 "nbformat": 4,
 "nbformat_minor": 2
}
