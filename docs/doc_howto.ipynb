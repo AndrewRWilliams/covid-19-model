{
 "cells": [
  {
   "cell_type": "markdown",
   "metadata": {},
   "source": [
    "# Writing markdown documents using jupyter notebook "
   ]
  },
  {
   "cell_type": "markdown",
   "metadata": {},
   "source": [
    "This guide explains how to use *jupyter notebook* to create markdown documents containing formulae and figures. First, change the type of the cell to *Markdown*:"
   ]
  },
  {
   "cell_type": "markdown",
   "metadata": {},
   "source": [
    "![](images/doc_howto/markdown_menu.png)"
   ]
  },
  {
   "cell_type": "markdown",
   "metadata": {},
   "source": [
    "Then write what your text using the markdown syntax. Do not worry ff you are not familiar with the syntax. It takes only a few minutes to master it. Here is a [guide](https://jupyter-notebook.readthedocs.io/en/stable/examples/Notebook/Working%20With%20Markdown%20Cells.html) for the markdown syntax. The figure below shows an example paragraph:"
   ]
  },
  {
   "cell_type": "markdown",
   "metadata": {},
   "source": [
    "![](images/doc_howto/markdown_source.png)"
   ]
  },
  {
   "cell_type": "markdown",
   "metadata": {},
   "source": [
    "When you \"run\" this cell, the markdown code is rendered into this:"
   ]
  },
  {
   "cell_type": "markdown",
   "metadata": {},
   "source": [
    "![](images/doc_howto/markdown_rendered.png)"
   ]
  },
  {
   "cell_type": "markdown",
   "metadata": {},
   "source": [
    "We can also easily add images to the document using the markdown syntax:"
   ]
  },
  {
   "cell_type": "markdown",
   "metadata": {},
   "source": [
    "![](images/doc_howto/markdown_image_source.png)"
   ]
  },
  {
   "cell_type": "markdown",
   "metadata": {},
   "source": [
    "which will be rendered into the following:"
   ]
  },
  {
   "cell_type": "markdown",
   "metadata": {},
   "source": [
    "![](images/doc_howto/markdown_image_rendered.png)"
   ]
  },
  {
   "cell_type": "markdown",
   "metadata": {},
   "source": [
    "Once you are done preparing the document, you can simply upload it to *GitHub* and it will be rendered there properly. "
   ]
  },
  {
   "cell_type": "markdown",
   "metadata": {},
   "source": [
    "## How to push your notebook to the [repository](https://github.com/babaki3/covid-19-model)\n",
    "\n",
    "1. Put your notebook in the `docs` directory\n",
    "2. If you have images, put all of them in a directory (say `images_bp`) and put that directory in `docs/images`). \n",
    "\n",
    "Make sure that your notebook renders correctly, that is, all images are referring to the correct locations. Then commit these changes and submit a [pull request](https://github.com/babaki3/covid-19-model/pulls). "
   ]
  }
 ],
 "metadata": {
  "kernelspec": {
   "display_name": "Python 3",
   "language": "python",
   "name": "python3"
  },
  "language_info": {
   "codemirror_mode": {
    "name": "ipython",
    "version": 3
   },
   "file_extension": ".py",
   "mimetype": "text/x-python",
   "name": "python",
   "nbconvert_exporter": "python",
   "pygments_lexer": "ipython3",
   "version": "3.7.3"
  }
 },
 "nbformat": 4,
 "nbformat_minor": 2
}
