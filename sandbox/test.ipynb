{
 "cells": [
  {
   "cell_type": "code",
   "execution_count": 6,
   "metadata": {},
   "outputs": [
    {
     "data": {
      "text/plain": [
       "3"
      ]
     },
     "execution_count": 6,
     "metadata": {},
     "output_type": "execute_result"
    }
   ],
   "source": [
    "import numpy as np\n",
    "import opengm\n",
    "\n",
    "gm=opengm.gm([2,2,2,2], operator='multiplier')\n",
    "\n",
    "fA = np.array([0.3, 0.7])\n",
    "fAB = np.array([[0.2, 0.8],\n",
    "               [0.7, 0.3]])\n",
    "fAC = np.array([[0.4, 0.6],\n",
    "               [0.3, 0.7]])\n",
    "fBCD = np.array([\n",
    "        [\n",
    "        [2, 8],\n",
    "        [0.3, 0.7]\n",
    "    ],\n",
    "        [\n",
    "        [0.6, 0.4],\n",
    "        [0.7, 0.3]\n",
    "    ]\n",
    "])\n",
    "\n",
    "gm.addFactor(gm.addFunction(fA),[0])\n",
    "gm.addFactor(gm.addFunction(fAB),[0, 1])\n",
    "gm.addFactor(gm.addFunction(fAC),[0, 2])\n",
    "gm.addFactor(gm.addFunction(fBCD), [1, 2, 3])"
   ]
  },
  {
   "cell_type": "code",
   "execution_count": 11,
   "metadata": {
    "scrolled": true
   },
   "outputs": [
    {
     "name": "stdout",
     "output_type": "stream",
     "text": [
      "begin\n",
      "visit\n",
      "energy  0.192\n",
      "marginals [[ 0.3  0.7]]\n",
      "visit\n",
      "energy  0.192\n",
      "marginals [[ 0.27334791  0.72665209]]\n",
      "visit\n",
      "energy  0.192\n",
      "marginals [[ 0.23924715  0.76075285]]\n",
      "visit\n",
      "energy  0.192\n",
      "marginals [[ 0.21209983  0.78790017]]\n",
      "visit\n",
      "energy  0.192\n",
      "marginals [[ 0.19419384  0.80580616]]\n",
      "visit\n",
      "energy  0.192\n",
      "marginals [[ 0.18336881  0.81663119]]\n",
      "visit\n",
      "energy  0.192\n",
      "marginals [[ 0.1771794  0.8228206]]\n",
      "visit\n",
      "energy  0.192\n",
      "marginals [[ 0.17383344  0.82616656]]\n",
      "visit\n",
      "energy  0.192\n",
      "marginals [[ 0.17216053  0.82783947]]\n",
      "visit\n",
      "energy  0.192\n",
      "marginals [[ 0.17143084  0.82856916]]\n",
      "end\n"
     ]
    }
   ],
   "source": [
    "import numpy\n",
    "\n",
    "from time import time\n",
    "\n",
    "gm, vs = gm.fixVariables([3], [1])\n",
    "\n",
    "class PyCallback(object):\n",
    "    def __init__(self):\n",
    "        pass\n",
    "    def begin(self,inference):\n",
    "        print \"begin\"\n",
    "    def end(self,inference):\n",
    "        print \"end\"\n",
    "    def visit(self,inference):\n",
    "        print \"visit\"\n",
    "        arg=inference.arg()\n",
    "        gm=inference.gm()\n",
    "        print \"energy \",gm.evaluate(arg)\n",
    "        print \"marginals\", inf.marginals(0)\n",
    "\n",
    "\n",
    "callback=PyCallback()\n",
    "visitor=inf.pythonVisitor(callback,visitNth=1)\n",
    "\n",
    "inf=opengm.inference.BeliefPropagation(gm, accumulator='integrator',\n",
    "                                                   parameter=opengm.InfParam(steps=10,\n",
    "                                                                             damping=0.5,\n",
    "                                                                             convergenceBound=0.001))\n",
    "# start inference (in this case unverbose infernce)\n",
    "\n",
    "t0=time()\n",
    "inf.infer(visitor)\n",
    "t1=time()\n",
    "\n",
    "# print t1-t0"
   ]
  },
  {
   "cell_type": "code",
   "execution_count": 5,
   "metadata": {},
   "outputs": [
    {
     "data": {
      "text/plain": [
       "array([[ 0.17143084,  0.82856916]])"
      ]
     },
     "execution_count": 5,
     "metadata": {},
     "output_type": "execute_result"
    }
   ],
   "source": [
    "inf.marginals(0)"
   ]
  },
  {
   "cell_type": "code",
   "execution_count": 4,
   "metadata": {},
   "outputs": [
    {
     "data": {
      "text/plain": [
       "array([[ 0.91263834,  0.08736166]])"
      ]
     },
     "execution_count": 4,
     "metadata": {},
     "output_type": "execute_result"
    }
   ],
   "source": [
    "inf.marginals(1)"
   ]
  },
  {
   "cell_type": "code",
   "execution_count": 5,
   "metadata": {},
   "outputs": [
    {
     "data": {
      "text/plain": [
       "array([[ 0.80004287,  0.19995713]])"
      ]
     },
     "execution_count": 5,
     "metadata": {},
     "output_type": "execute_result"
    }
   ],
   "source": [
    "inf.marginals(2)"
   ]
  },
  {
   "cell_type": "code",
   "execution_count": 6,
   "metadata": {
    "scrolled": true
   },
   "outputs": [
    {
     "data": {
      "text/plain": [
       "array([[ 0.17634451,  0.82365549]])"
      ]
     },
     "execution_count": 6,
     "metadata": {},
     "output_type": "execute_result"
    }
   ],
   "source": [
    "inf.factorMarginals(0)"
   ]
  },
  {
   "cell_type": "code",
   "execution_count": 7,
   "metadata": {},
   "outputs": [
    {
     "data": {
      "text/plain": [
       "array([[[ 0.11768716,  0.05050971],\n",
       "        [ 0.79523486,  0.03656827]]])"
      ]
     },
     "execution_count": 7,
     "metadata": {},
     "output_type": "execute_result"
    }
   ],
   "source": [
    "inf.factorMarginals(1)"
   ]
  },
  {
   "cell_type": "code",
   "execution_count": 8,
   "metadata": {},
   "outputs": [
    {
     "data": {
      "text/plain": [
       "array([[[ 0.15218053,  0.0270093 ],\n",
       "        [ 0.64322628,  0.17758389]]])"
      ]
     },
     "execution_count": 8,
     "metadata": {},
     "output_type": "execute_result"
    }
   ],
   "source": [
    "inf.factorMarginals(2)"
   ]
  },
  {
   "cell_type": "code",
   "execution_count": 9,
   "metadata": {},
   "outputs": [
    {
     "data": {
      "text/plain": [
       "array([[[ 0.76985951,  0.14279581],\n",
       "        [ 0.03372572,  0.05361896]]])"
      ]
     },
     "execution_count": 9,
     "metadata": {},
     "output_type": "execute_result"
    }
   ],
   "source": [
    "inf.factorMarginals(3)"
   ]
  }
 ],
 "metadata": {
  "kernelspec": {
   "display_name": "Python 2",
   "language": "python",
   "name": "python2"
  },
  "language_info": {
   "codemirror_mode": {
    "name": "ipython",
    "version": 2
   },
   "file_extension": ".py",
   "mimetype": "text/x-python",
   "name": "python",
   "nbconvert_exporter": "python",
   "pygments_lexer": "ipython2",
   "version": "2.7.17"
  }
 },
 "nbformat": 4,
 "nbformat_minor": 2
}
